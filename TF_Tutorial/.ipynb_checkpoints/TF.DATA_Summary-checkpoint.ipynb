{
 "cells": [
  {
   "cell_type": "markdown",
   "metadata": {
    "slideshow": {
     "slide_type": "-"
    }
   },
   "source": [
    "# TF DEV Summit - TF.DATA"
   ]
  },
  {
   "cell_type": "code",
   "execution_count": 1,
   "metadata": {},
   "outputs": [],
   "source": [
    "import tensorflow as tf"
   ]
  },
  {
   "cell_type": "markdown",
   "metadata": {},
   "source": [
    "# TF.DATA를 시작하기 전에 알아야 할 개념!\n",
    "\n",
    "## Background - Dynamic vs. Static\n",
    "\n",
    "### Dynamic 방식으로 데이터를 처리하면, 모든 데이터를 메모리에 올리지 않고, 필요할 때만 추출한다. tf.data를 시작하기 전에 iterator / Generator / Yield에 대해 이해하고 있어야 활용이 용이하다.\n",
    "\n",
    "- http://stackabuse.com/python-generators/ \n",
    "\n",
    "- http://pymbook.readthedocs.io/en/latest/igd.htm\n",
    "\n",
    "- https://dojang.io/mod/page/view.php?id=1117\n",
    "\n",
    " 1. Iterator - Repeatable Object (반복가능한 객체)\n",
    "\n",
    " 2. Generator - Iterator를 만들어주는 것, lazy generation of values (on-demand)\n",
    " \n",
    " 3. Yield - 함수에서 return과 동일한 역할 수행\n",
    "\n",
    "### Adventages\n",
    "\n",
    "- 온디멘드 방식으로 메모리를 적게 사용 (Streaming, Big Data)\n",
    "\n",
    "- 사용하지 않는 값들은 저장하고 있지 않음\n",
    "\n",
    "### Disadventages\n",
    "\n",
    "- Static 방식에 비해 로드 때마다 IO 연산이 발생되는데, 이후 TF.DATA는 관련 방식을 어떻게 해결하는지 확인해보자"
   ]
  },
  {
   "cell_type": "code",
   "execution_count": 3,
   "metadata": {},
   "outputs": [
    {
     "name": "stdout",
     "output_type": "stream",
     "text": [
      "Dynamic (동적) 접근\n",
      "0\n",
      "1\n",
      "Static(정적)변환 [0, 1, 2, 3, 4, 5, 6, 7, 8, 9]\n"
     ]
    }
   ],
   "source": [
    "# Generator 활용의 예\n",
    "\n",
    "#yield: 함수 실행 중간에 빠져나올 수 있는 generator를 만들 때 사용\n",
    "\n",
    "def num_gen(n):\n",
    "    num = 0\n",
    "    while num < n:\n",
    "        yield num # loop 중간에 값을 가져옴\n",
    "        num += 1\n",
    "\n",
    "gen_execute = num_gen(10)\n",
    "\n",
    "print(\"Dynamic (동적) 접근\")\n",
    "print(next(gen_execute))\n",
    "print(next(gen_execute))\n",
    "# 위와 같은 방식으로 데이터를 필요 할 때만 가져오는 방식으로 접근한다.\n",
    "\n",
    "# Static으로 변환하고 싶으면 list를 활용하자\n",
    "print(\"Static(정적)변환 {}\".format(list(num_gen(10))))"
   ]
  },
  {
   "cell_type": "markdown",
   "metadata": {},
   "source": [
    "## TF.Data \n",
    "\n",
    " - 머신러닝에서 가장 많이 시간을 소요하는 것은 데이터를 어떻게 다루느냐이다. 일반적으로 데이터를 분석, 전처리, 파이프라인 만드는 과정에 머신러닝 프로젝트의 70~80% 시간을 소비한다 해도 과언이 아니다. 텐서플로우에서는 Dataset API를 활용하여 단순히 연구자 뿐문아니라 서비스화를 위해 끊임없이 개선하고 있다. 비동기성과 최적화를 통한 빠른 데이터 처리로 GPU가 병목현상 없이 효율적으로 활용 될 수 있게 해주며, 이미지, 텍스트 뿐만 아니라 넘파이 (Numpy), 판다스 (Pandas) 데이터 구조가 활용이 가능하도록 지원한다."
   ]
  },
  {
   "cell_type": "code",
   "execution_count": 2,
   "metadata": {},
   "outputs": [],
   "source": [
    "#Read Txt file\n",
    "dataset = tf.data.TextLineDataset(\"./data/abstracts.txt\")"
   ]
  },
  {
   "cell_type": "code",
   "execution_count": 5,
   "metadata": {
    "scrolled": true
   },
   "outputs": [
    {
     "data": {
      "text/plain": [
       "<TextLineDataset shapes: (), types: tf.string>"
      ]
     },
     "execution_count": 5,
     "metadata": {},
     "output_type": "execute_result"
    }
   ],
   "source": [
    "# Dataset은 단순히 Tensorflow의 Graph중 하나이기 때문에, Graph를 initialize 시켜야한다. 어떻게 보면 복잡한것 같지만, 데이터를 어떻게 넣을지,\n",
    "# 고민 안해도 된다.\n",
    "\n",
    "dataset"
   ]
  },
  {
   "cell_type": "markdown",
   "metadata": {},
   "source": [
    "## TF.data for pandas"
   ]
  },
  {
   "cell_type": "code",
   "execution_count": 38,
   "metadata": {},
   "outputs": [
    {
     "data": {
      "text/html": [
       "<div>\n",
       "<style scoped>\n",
       "    .dataframe tbody tr th:only-of-type {\n",
       "        vertical-align: middle;\n",
       "    }\n",
       "\n",
       "    .dataframe tbody tr th {\n",
       "        vertical-align: top;\n",
       "    }\n",
       "\n",
       "    .dataframe thead th {\n",
       "        text-align: right;\n",
       "    }\n",
       "</style>\n",
       "<table border=\"1\" class=\"dataframe\">\n",
       "  <thead>\n",
       "    <tr style=\"text-align: right;\">\n",
       "      <th></th>\n",
       "      <th>sepal_length</th>\n",
       "      <th>sepal_width</th>\n",
       "      <th>petal_length</th>\n",
       "      <th>petal_width</th>\n",
       "      <th>species</th>\n",
       "    </tr>\n",
       "  </thead>\n",
       "  <tbody>\n",
       "    <tr>\n",
       "      <th>0</th>\n",
       "      <td>5.1</td>\n",
       "      <td>3.5</td>\n",
       "      <td>1.4</td>\n",
       "      <td>0.2</td>\n",
       "      <td>Iris-setosa</td>\n",
       "    </tr>\n",
       "    <tr>\n",
       "      <th>1</th>\n",
       "      <td>4.9</td>\n",
       "      <td>3.0</td>\n",
       "      <td>1.4</td>\n",
       "      <td>0.2</td>\n",
       "      <td>Iris-setosa</td>\n",
       "    </tr>\n",
       "    <tr>\n",
       "      <th>2</th>\n",
       "      <td>4.7</td>\n",
       "      <td>3.2</td>\n",
       "      <td>1.3</td>\n",
       "      <td>0.2</td>\n",
       "      <td>Iris-setosa</td>\n",
       "    </tr>\n",
       "    <tr>\n",
       "      <th>3</th>\n",
       "      <td>4.6</td>\n",
       "      <td>3.1</td>\n",
       "      <td>1.5</td>\n",
       "      <td>0.2</td>\n",
       "      <td>Iris-setosa</td>\n",
       "    </tr>\n",
       "    <tr>\n",
       "      <th>4</th>\n",
       "      <td>5.0</td>\n",
       "      <td>3.6</td>\n",
       "      <td>1.4</td>\n",
       "      <td>0.2</td>\n",
       "      <td>Iris-setosa</td>\n",
       "    </tr>\n",
       "  </tbody>\n",
       "</table>\n",
       "</div>"
      ],
      "text/plain": [
       "   sepal_length  sepal_width  petal_length  petal_width      species\n",
       "0           5.1          3.5           1.4          0.2  Iris-setosa\n",
       "1           4.9          3.0           1.4          0.2  Iris-setosa\n",
       "2           4.7          3.2           1.3          0.2  Iris-setosa\n",
       "3           4.6          3.1           1.5          0.2  Iris-setosa\n",
       "4           5.0          3.6           1.4          0.2  Iris-setosa"
      ]
     },
     "execution_count": 38,
     "metadata": {},
     "output_type": "execute_result"
    }
   ],
   "source": [
    "# https://medium.com/learning-machine-learning/introduction-to-tensorflow-estimators-part-1-39f9eb666bc7\n",
    "\n",
    "import pandas as pd\n",
    "import tensorflow as tf\n",
    "import requests\n",
    "import re\n",
    "from sklearn.preprocessing import LabelEncoder\n",
    "\n",
    "#Iris datas download\n",
    "url = 'https://archive.ics.uci.edu/ml/machine-learning-databases/iris/iris.data'\n",
    "r = requests.get(url, allow_redirects=True)\n",
    "filename = \"raw.csv\"\n",
    "open(filename, 'wb').write(r.content)\n",
    "\n",
    "#Save data into pandas\n",
    "dataset = pd.read_csv('raw.csv', header=None, names=['sepal_length','sepal_width','petal_length','petal_width','species'])\n",
    "\n",
    "#Tensorflow feature graph 변환\n",
    "numeric_columns = ['sepal_length','sepal_width','petal_length','petal_width']\n",
    "numeric_features = [tf.feature_column.numeric_column(key = column) for column in numeric_columns]"
   ]
  },
  {
   "cell_type": "code",
   "execution_count": 78,
   "metadata": {},
   "outputs": [],
   "source": [
    "train_df = dataset[numeric_columns]\n",
    "\n",
    "# Categorical String 데이터를 변환\n",
    "label_df = dataset['species']\n",
    "label_encoder = LabelEncoder()\n",
    "integer_encoded = label_encoder.fit_transform(label_df)\n",
    "labels = pd.DataFrame(data=integer_encoded)"
   ]
  },
  {
   "cell_type": "code",
   "execution_count": 80,
   "metadata": {},
   "outputs": [
    {
     "name": "stdout",
     "output_type": "stream",
     "text": [
      "INFO:tensorflow:Using default config.\n",
      "WARNING:tensorflow:Using temporary folder as model directory: /var/folders/cp/9zlspqj13_j36gnd9q2yp0180000gn/T/tmp1kth5dfs\n",
      "INFO:tensorflow:Using config: {'_model_dir': '/var/folders/cp/9zlspqj13_j36gnd9q2yp0180000gn/T/tmp1kth5dfs', '_tf_random_seed': None, '_save_summary_steps': 100, '_save_checkpoints_steps': None, '_save_checkpoints_secs': 600, '_session_config': None, '_keep_checkpoint_max': 5, '_keep_checkpoint_every_n_hours': 10000, '_log_step_count_steps': 100, '_train_distribute': None, '_service': None, '_cluster_spec': <tensorflow.python.training.server_lib.ClusterSpec object at 0x11fc7b4e0>, '_task_type': 'worker', '_task_id': 0, '_global_id_in_cluster': 0, '_master': '', '_evaluation_master': '', '_is_chief': True, '_num_ps_replicas': 0, '_num_worker_replicas': 1}\n"
     ]
    }
   ],
   "source": [
    "def pd_input_fn(x_df, y_df):\n",
    "    #판다스 입력을 사용\n",
    "    return tf.estimator.inputs.pandas_input_fn(\n",
    "        x = x_df,\n",
    "        y = y_df,\n",
    "        batch_size = 16,\n",
    "        num_epochs = None,\n",
    "        shuffle = True\n",
    "    )\n",
    "\n",
    "training_input_fn = pd_input_fn(train_df, labels)\n",
    "linear_classifier = tf.estimator.LinearClassifier(feature_columns=numeric_features, n_classes=3)\n",
    "linear_classifier.train(training_input_fn)"
   ]
  },
  {
   "cell_type": "markdown",
   "metadata": {},
   "source": [
    "# TF.Data\n",
    "\n",
    "## 머신러닝의 시작은 결국 데이터를 어떻게 다루느냐가 Key 요소 중 하나.\n",
    "\n",
    "## 단순히 연구자 뿐만 아니라, 상용화 (Product)를 위해서 끊임없이 개선하고 있음.\n",
    "\n",
    "### **The tf.data mission**\n",
    "\n",
    "Input piplines for Tensorflow should be:\n",
    "\n",
    "**Fast** : to keep up with GPUs and TPUs\n",
    "\n",
    "**Flexible** : to handle diverse data sources and use cases\n",
    "\n",
    "**Easy to use** : to democratize machine learning"
   ]
  },
  {
   "cell_type": "markdown",
   "metadata": {},
   "source": [
    "### Extract Transform Load for Tensorflow\n",
    "\n",
    "#### data pipeline을 구축함으로써, 학습 데이터 준비와 학습 시간 최적화 - 1\n",
    "\n",
    "<img src=\"tf.data1.png\">\n",
    "\n",
    "```python\n",
    "#Extract\n",
    "files = tf.data.Dataset.list_files(file_pattern)\n",
    "dataset = tf.data.TFRecordDataset(files)\n",
    "\n",
    "#Transform\n",
    "dataset = dataset.shuffle(10000)\n",
    "dataset = dataset.repeat(NUM_EPOCHS)\n",
    "dataset = dataset.map(lambda x: tf.parse_single_example(x, features))\n",
    "dataset = dataset.batch(BATCH_SIZE)\n",
    "\n",
    "#Load\n",
    "iterator = dataset.make_one_shot_iterator() #Sequencial Access\n",
    "features = iterator.get_next()\n",
    "```"
   ]
  },
  {
   "cell_type": "markdown",
   "metadata": {},
   "source": [
    "### Performance\n",
    "\n",
    "- CNN benchmarks reach > **13,000 images/second** with tf.data -> 8달 전과 비교하여 성능 2배 성장 (DGX - Imagenet)\n",
    " <br />\n",
    "- 텐서플로우 벤치마크 프로젝트를 사용하여 활용: www.tensorflow.org/performance/datasets_performance\n",
    "\n",
    "- New tf.contrib.data.prefetch_to_device() for GPUs tf 1.8 (tf-nightly에 보유)\n",
    "\n",
    "- https://www.tensorflow.org/versions/master/performance/datasets_performance\n",
    "\n",
    "#### parallel 기능을 활용하여, 학습 데이터 준비와 학습 시간 최적화 - 2\n",
    "\n",
    "<img src=\"tf.data2.png\">\n",
    "\n",
    "\n",
    "```python\n",
    "\n",
    "## 속도를 올리기 위해서는?? Parallel!!\n",
    "## 기존에 shuffle / batch 등등 각각 진행하던 방식을 1개로 합침\n",
    "\n",
    "#Extract\n",
    "files = tf.data.Dataset.list_files(file_pattern)\n",
    "# dataset = tf.data.TFRecordDataset(files) ->\n",
    "dataset = tf.data.TFRecordDataset(files, num_parallel_reads=32)\n",
    "\n",
    "#Transform\n",
    "\n",
    "#shuffle_and_repeat: epochs와 buffers사이에서 정지하는 현상 방지\n",
    "dataset = dataset.apply(\n",
    "    tf.contrib.data.shuffle_and_repeat(10000, NUM_EPOCHS))\n",
    "\n",
    "#map_and_batch: map과 data transfer를 동시에 함\n",
    "dataset = dataset.apply(\n",
    "    tf.contrib.data.map_and_batch(lambda x: ..., BATCH_SIZE))\n",
    "\n",
    "#Load\n",
    "\n",
    "#prefetch_to_device = 그 다음 batch가 미리 GPU 메모리 대기\n",
    "dataset = dataset.apply(tf.contrib.data.prefetch_to_device(\"/gpu:0\"))\n",
    "iterator = dataset.make_one_shot_iterator() #Sequencial Access\n",
    "features = iterator.get_next()\n",
    "\n",
    "```"
   ]
  },
  {
   "cell_type": "markdown",
   "metadata": {},
   "source": [
    "### Flexibility\n",
    "\n",
    "- tf.SparseTensor를 지원 (1.5ver) -> 복잡한 Categorical data나 embedding 모델을 다룰때\n",
    "\n",
    "- Custom Python code via Dataset.from_generator() ->?\n",
    "\n",
    "- Custom C++ code via DatasetOpKernel plugis\n",
    "\n",
    "-> 실무 새로운 데이터셋을 만들거나 개선할때 좋다."
   ]
  },
  {
   "cell_type": "markdown",
   "metadata": {},
   "source": [
    "### Easy of Use\n",
    "\n",
    "**데이터를 읽고 쓰는 것을 조금 더 쉽게 지원하기 위한 기능 추가**\n",
    "\n",
    "#### Use Python for loops in eager exeuction mode\n",
    "\n",
    "```python\n",
    "#Extract\n",
    "files = tf.data.Dataset.list_files(file_pattern)\n",
    "dataset = tf.data.TFRecordDataset(files)\n",
    "\n",
    "#Transform\n",
    "dataset = dataset.shuffle(10000)\n",
    "dataset = dataset.repeat(NUM_EPOCHS)\n",
    "dataset = dataset.map(lambda x: tf.parse_single_example(x, features))\n",
    "dataset = dataset.batch(BATCH_SIZE)\n",
    "\n",
    "#Eager execution make datset a normal Python iterable.\n",
    "\n",
    "for batch in dataset:\n",
    "    train_model(batch)\n",
    "```\n",
    "\n",
    "</br>\n",
    "\n",
    "#### Standard Method CSV file with protocal buffer (tf 1.8)\n",
    "\n",
    "```python\n",
    "tf.enable_eager_execution()\n",
    "\n",
    "#make_batched_features_dataset\n",
    "dataset = tf.contrib.data.make_batched_features_dataset(\n",
    "    file_pattern, BATCH_SIZE, features, num_epochs=NUM_EPOCHS)\n",
    "\n",
    "#일반적으로는 속도를 위해서는 tf.example, tfrecord와 같은 binary를 추천\n",
    "#하지만 큰 데이터를 항상 가지고 있는 것은 아님.\n",
    "\n",
    "#kaggle의 예\n",
    "#$ pip install kaggle\n",
    "#$ kaggle datasets downaload -d theronk/million-headlins -p .\n",
    "\n",
    "for batch in dataset:\n",
    "    train_model(batch[\"publish_data\"], batch[\"headline_text\"])\n",
    "\n",
    "```\n",
    "\n",
    "### Integration with Esitmators(and Keras comming soon!!)\n",
    "\n",
    "```python\n",
    "def input_fn():\n",
    "    dataset = tf.contrib.data.make_csv_dataset(\n",
    "        \"*.csv\", BATCH_SIZE, num_epochs=NUM_EPOCHS)\n",
    "    return dataset\n",
    "\n",
    "# train an estimator on the dataset\n",
    "tf.esitmator.Estimator(model_fn=train_model).train(input_fn=input_fn)\n",
    "\n",
    "```\n",
    "\n",
    "*공식 홈페이지에서의 추가 정보들과 Performance 참고*\n",
    "\n",
    "- www.tensorflow.org/programmers_guide/datasets\n",
    "- www.tensorflow.org/performance/datasets_performance"
   ]
  },
  {
   "cell_type": "markdown",
   "metadata": {},
   "source": [
    "# 실습 및 활용\n",
    "\n",
    "ref: https://towardsdatascience.com/how-to-use-dataset-in-tensorflow-c758ef9e4428\n",
    "\n",
    "1. Importing Data: 데이터셋 생성\n",
    " - From numpy\n",
    " - From tensor\n",
    " - From a placeholder\n",
    " - From generator\n",
    " \n",
    " </br>\n",
    "\n",
    "2. Create an Iterator: 생성된 데이터셋을 바탕으로 Iterator 인스턴스를 만들기\n",
    " - One shot Iterator\n",
    " - Initializable Iterator\n",
    " - Reinitializable Iterator\n",
    " - Feedable Iterator\n",
    " \n",
    " </br>"
   ]
  },
  {
   "cell_type": "code",
   "execution_count": 2,
   "metadata": {},
   "outputs": [
    {
     "name": "stderr",
     "output_type": "stream",
     "text": [
      "/Users/sinseongjin/tf17_py3/lib/python3.6/site-packages/h5py/__init__.py:36: FutureWarning: Conversion of the second argument of issubdtype from `float` to `np.floating` is deprecated. In future, it will be treated as `np.float64 == np.dtype(float).type`.\n",
      "  from ._conv import register_converters as _register_converters\n"
     ]
    }
   ],
   "source": [
    "import tensorflow as tf\n",
    "import numpy as np\n",
    "\n",
    "#with keras"
   ]
  },
  {
   "cell_type": "markdown",
   "metadata": {},
   "source": [
    "## 1. Importing Data"
   ]
  },
  {
   "cell_type": "code",
   "execution_count": 8,
   "metadata": {},
   "outputs": [
    {
     "name": "stdout",
     "output_type": "stream",
     "text": [
      "size of x: (300, 2)\n",
      "[0.18595173 0.27372692]\n"
     ]
    }
   ],
   "source": [
    "#numpy에서 데이터 불러오기\n",
    "\n",
    "x = np.random.sample((300,2))\n",
    "print(\"size of x:\", x.shape)\n",
    "\n",
    "# make a dataset from a numpy array\n",
    "dataset = tf.data.Dataset.from_tensor_slices(x)\n",
    "\n",
    "iter = dataset.make_one_shot_iterator()\n",
    "el = iter.get_next()\n",
    "\n",
    "with tf.Session() as sess:\n",
    "    #Session을 통하여 데이터를 print해 볼 수 있음\n",
    "    print(sess.run(el))"
   ]
  },
  {
   "cell_type": "code",
   "execution_count": 13,
   "metadata": {},
   "outputs": [],
   "source": [
    "# features와 label을 불러오는 경우\n",
    "features, labels = (np.random.sample((100,2)), np.random.sample((100,1)))\n",
    "dataset = tf.data.Dataset.from_tensor_slices((features,labels))\n",
    "\n",
    "# tfrecords를 활용한다면, 따로 데이터와 label을 나눌 필요가 없음"
   ]
  },
  {
   "cell_type": "code",
   "execution_count": 14,
   "metadata": {},
   "outputs": [],
   "source": [
    "# Tensor Data 처리\n",
    "dataset = tf.data.Dataset.from_tensor_slices(tf.random_uniform([100, 2]))"
   ]
  },
  {
   "cell_type": "code",
   "execution_count": 16,
   "metadata": {},
   "outputs": [],
   "source": [
    "# Placeholder 처리방법\n",
    "x = tf.placeholder(tf.float32, shape=[None,2])\n",
    "dataset = tf.data.Dataset.from_tensor_slices(x)"
   ]
  },
  {
   "cell_type": "code",
   "execution_count": 17,
   "metadata": {},
   "outputs": [],
   "source": [
    "# generator 활용하여 처리\n",
    "# generator를 활용하여 init하기\n",
    "# 주로 sequence와 같은 길이가 다른 element들이 있을때 유용\n",
    "\n",
    "sequence = np.array([[1],[2,3],[3,4]])\n",
    "\n",
    "def generator():\n",
    "    for el in sequence:\n",
    "        yield el\n",
    "        \n",
    "dataset = tf.data.Dataset().from_generator(generator,\n",
    "                                           output_types=tf.float32, \n",
    "                                           output_shapes=[tf.float32])"
   ]
  },
  {
   "cell_type": "markdown",
   "metadata": {},
   "source": [
    "## 2. Create an Iterator - get data"
   ]
  },
  {
   "cell_type": "markdown",
   "metadata": {},
   "source": [
    "### One shot Iterator"
   ]
  },
  {
   "cell_type": "code",
   "execution_count": 18,
   "metadata": {},
   "outputs": [
    {
     "name": "stdout",
     "output_type": "stream",
     "text": [
      "[0.46524592 0.91114116]\n"
     ]
    }
   ],
   "source": [
    "x = np.random.sample((100,2))\n",
    "# make a dataset from a numpy array\n",
    "dataset = tf.data.Dataset.from_tensor_slices(x)\n",
    "\n",
    "# create the iterator\n",
    "iter = dataset.make_one_shot_iterator()\n",
    "el = iter.get_next()\n",
    "\n",
    "with tf.Session() as sess:\n",
    "    print(sess.run(el)) # output: [ 0.42116176  0.40666069]"
   ]
  },
  {
   "cell_type": "markdown",
   "metadata": {},
   "source": [
    "### Initalizable Iterator\n",
    "\n",
    " - Dynamic dataset을 다루기 위해 placeholder와 함께 활용\n",
    " - placeholder를 feed-dict 메커니즘을 활용하여 초기화 함"
   ]
  },
  {
   "cell_type": "code",
   "execution_count": 21,
   "metadata": {},
   "outputs": [
    {
     "name": "stdout",
     "output_type": "stream",
     "text": [
      "[0.9624355 0.6523885]\n"
     ]
    }
   ],
   "source": [
    "# using a placeholder\n",
    "x = tf.placeholder(tf.float32, shape=[None,2])\n",
    "dataset = tf.data.Dataset.from_tensor_slices(x)\n",
    "data = np.random.sample((100,2))\n",
    "\n",
    "iter = dataset.make_initializable_iterator() # create the iterator\n",
    "el = iter.get_next()\n",
    "\n",
    "with tf.Session() as sess:\n",
    "    # feed the placeholder with data\n",
    "    sess.run(iter.initializer, feed_dict={ x: data }) #initializer를 선언\n",
    "    print(sess.run(el)) # output [ 0.52374458  0.71968478]"
   ]
  },
  {
   "cell_type": "code",
   "execution_count": 24,
   "metadata": {},
   "outputs": [
    {
     "name": "stdout",
     "output_type": "stream",
     "text": [
      "[array([1., 2.], dtype=float32), array([0.], dtype=float32)]\n"
     ]
    }
   ],
   "source": [
    "## train 과 test 데이터셋 동시에 다루기\n",
    "\n",
    "train_data = (np.random.sample((100,2)), np.random.sample((100,1)))\n",
    "test_data = (np.array([[1,2]]), np.array([[0]]))\n",
    "\n",
    "EPOCHS = 10\n",
    "\n",
    "x, y = tf.placeholder(tf.float32, shape=[None,2]), tf.placeholder(tf.float32, shape=[None,1])\n",
    "\n",
    "dataset = tf.data.Dataset.from_tensor_slices((x, y))\n",
    "train_data = (np.random.sample((100,2)), np.random.sample((100,1)))\n",
    "test_data = (np.array([[1,2]]), np.array([[0]]))\n",
    "iter = dataset.make_initializable_iterator()\n",
    "features, labels = iter.get_next()\n",
    "\n",
    "with tf.Session() as sess:\n",
    "    \n",
    "    #     initialise iterator with train data\n",
    "    sess.run(iter.initializer, feed_dict={ x: train_data[0], y: train_data[1]})\n",
    "    for _ in range(EPOCHS):\n",
    "        sess.run([features, labels])\n",
    "\n",
    "    #     switch to test data\n",
    "    sess.run(iter.initializer, feed_dict={ x: test_data[0], y: test_data[1]})\n",
    "    print(sess.run([features, labels]))"
   ]
  },
  {
   "cell_type": "markdown",
   "metadata": {},
   "source": [
    "### Reinitializable Iterator\n",
    "\n",
    " - 위의 Initalizable Iterator와 유사하지만, 새로운 데이터를 feed 하는 대신, 새로운 데이터로 변경 할 수 있음."
   ]
  },
  {
   "cell_type": "code",
   "execution_count": 27,
   "metadata": {},
   "outputs": [
    {
     "name": "stdout",
     "output_type": "stream",
     "text": [
      "[array([0.13652812, 0.69115812]), array([0.24063632])]\n"
     ]
    }
   ],
   "source": [
    "# making fake data using numpy\n",
    "train_data = (np.random.sample((100,2)), np.random.sample((100,1)))\n",
    "test_data = (np.random.sample((10,2)), np.random.sample((10,1)))\n",
    "\n",
    "# create two datasets, one for training and one for test\n",
    "train_dataset = tf.data.Dataset.from_tensor_slices(train_data)\n",
    "test_dataset = tf.data.Dataset.from_tensor_slices(test_data)\n",
    "\n",
    "# 한가지 트릭으로, Generic Iterator를 생성한다.\n",
    "\n",
    "# shape와 type으로 iterator를 생성하고,\n",
    "iter = tf.data.Iterator.from_structure(train_dataset.output_types,\n",
    "                                           train_dataset.output_shapes)\n",
    "# 두개를 동시에 초기화한다.\n",
    "\n",
    "# create the initialisation operations\n",
    "train_init_op = iter.make_initializer(train_dataset)\n",
    "test_init_op = iter.make_initializer(test_dataset)\n",
    "\n",
    "# We get the next element as before\n",
    "features, labels = iter.get_next()\n",
    "\n",
    "# session을 활용하여 2개의 초기화 연산을 실행한다.\n",
    "\n",
    "train_init_op = iter.make_initializer(train_dataset)\n",
    "test_init_op = iter.make_initializer(test_dataset)\n",
    "\n",
    "with tf.Session() as sess:\n",
    "    sess.run(train_init_op) # switch to train dataset\n",
    "    for _ in range(EPOCHS):\n",
    "        sess.run([features, labels])\n",
    "    sess.run(test_init_op) # switch to val dataset\n",
    "    print(sess.run([features, labels]))"
   ]
  },
  {
   "cell_type": "markdown",
   "metadata": {},
   "source": [
    "## 3. Consuming data\n",
    "  \n",
    "  - 데이터를 모델에 pass하기 위하여 get_next() 활용"
   ]
  },
  {
   "cell_type": "code",
   "execution_count": 28,
   "metadata": {
    "scrolled": true
   },
   "outputs": [
    {
     "name": "stdout",
     "output_type": "stream",
     "text": [
      "Iter: 0, Loss: 0.1603\n",
      "Iter: 1, Loss: 0.1561\n",
      "Iter: 2, Loss: 0.1521\n",
      "Iter: 3, Loss: 0.1482\n",
      "Iter: 4, Loss: 0.1446\n",
      "Iter: 5, Loss: 0.1412\n",
      "Iter: 6, Loss: 0.1380\n",
      "Iter: 7, Loss: 0.1351\n",
      "Iter: 8, Loss: 0.1323\n",
      "Iter: 9, Loss: 0.1296\n"
     ]
    }
   ],
   "source": [
    "EPOCHS = 10\n",
    "BATCH_SIZE = 16\n",
    "# using two numpy arrays\n",
    "features, labels = (np.array([np.random.sample((100,2))]), \n",
    "                    np.array([np.random.sample((100,1))]))\n",
    "\n",
    "dataset = tf.data.Dataset.from_tensor_slices((features,labels)).repeat().batch(BATCH_SIZE)\n",
    "\n",
    "iter = dataset.make_one_shot_iterator() #iterator생성하기\n",
    "#첫번째 layer와 label에 iter.get_next를 통해 직접 Tensor를 넣는다.\n",
    "x, y = iter.get_next()\n",
    "\n",
    "# 간단한 뉴럴넷 만들기\n",
    "\n",
    "# pass the first value from iter.get_next() as input\n",
    "net = tf.layers.dense(x, 8, activation=tf.tanh) \n",
    "net = tf.layers.dense(net, 8, activation=tf.tanh)\n",
    "prediction = tf.layers.dense(net, 1, activation=tf.tanh)\n",
    "\n",
    "# pass the second value from iter.get_net() as label\n",
    "loss = tf.losses.mean_squared_error(prediction, y)\n",
    "train_op = tf.train.AdamOptimizer().minimize(loss)\n",
    "\n",
    "with tf.Session() as sess:\n",
    "    sess.run(tf.global_variables_initializer())\n",
    "    for i in range(EPOCHS):\n",
    "        _, loss_value = sess.run([train_op, loss])\n",
    "        print(\"Iter: {}, Loss: {:.4f}\".format(i, loss_value))"
   ]
  },
  {
   "cell_type": "markdown",
   "metadata": {},
   "source": [
    "# TIPS: BATCHING / REPEAT / MAP / SHUFFLE"
   ]
  },
  {
   "cell_type": "markdown",
   "metadata": {},
   "source": [
    "## Batch\n",
    " - 일반적으로 복잡한 Batch의 처리를 간단하게 활용"
   ]
  },
  {
   "cell_type": "code",
   "execution_count": 10,
   "metadata": {},
   "outputs": [
    {
     "name": "stdout",
     "output_type": "stream",
     "text": [
      "[[0.59718665 0.89988339]\n",
      " [0.88266584 0.91656019]\n",
      " [0.84153486 0.9416401 ]\n",
      " [0.41580571 0.67149192]]\n"
     ]
    }
   ],
   "source": [
    "# BATCHING\n",
    "BATCH_SIZE = 4\n",
    "x = np.random.sample((100,2))\n",
    "# make a dataset from a numpy array\n",
    "dataset = tf.data.Dataset.from_tensor_slices(x).batch(BATCH_SIZE)\n",
    "\n",
    "iter = dataset.make_one_shot_iterator()\n",
    "el = iter.get_next()\n",
    "\n",
    "with tf.Session() as sess:\n",
    "    print(sess.run(el))"
   ]
  },
  {
   "cell_type": "markdown",
   "metadata": {},
   "source": [
    "## Repeat\n",
    "\n",
    "- .repeat()을 통해, 데이터를 반복한다."
   ]
  },
  {
   "cell_type": "code",
   "execution_count": 34,
   "metadata": {
    "scrolled": true
   },
   "outputs": [],
   "source": [
    "# REPEAT\n",
    "BATCH_SIZE = 4\n",
    "x = np.array([[1],[2],[3],[4]])\n",
    "# make a dataset from a numpy array\n",
    "dataset = tf.data.Dataset.from_tensor_slices(x)\n",
    "dataset = dataset.repeat()\n",
    "\n",
    "iter = dataset.make_one_shot_iterator()\n",
    "el = iter.get_next()\n",
    "\n",
    "# with tf.Session() as sess:\n",
    "# #     실행하면 무한 loop 진행\n",
    "#     while True:\n",
    "#         print(sess.run(el))"
   ]
  },
  {
   "cell_type": "markdown",
   "metadata": {},
   "source": [
    "## Shuffle\n",
    " - shuffle을 통해 데이터를 섞는다. overfitting을 막기위해 중요한 기능이다.\n",
    " - buffer_size를 지정하여 uniform하게 선택되도록 한다. (seed와 유사)"
   ]
  },
  {
   "cell_type": "code",
   "execution_count": 31,
   "metadata": {},
   "outputs": [
    {
     "name": "stdout",
     "output_type": "stream",
     "text": [
      "[[1]\n",
      " [4]\n",
      " [3]\n",
      " [2]]\n"
     ]
    }
   ],
   "source": [
    "# SHUFFLE\n",
    "BATCH_SIZE = 4\n",
    "x = np.array([[1],[2],[3],[4]])\n",
    "# make a dataset from a numpy array\n",
    "dataset = tf.data.Dataset.from_tensor_slices(x)\n",
    "dataset = dataset.shuffle(buffer_size=100)\n",
    "dataset = dataset.batch(BATCH_SIZE)\n",
    "\n",
    "iter = dataset.make_one_shot_iterator()\n",
    "el = iter.get_next()\n",
    "\n",
    "with tf.Session() as sess:\n",
    "    print(sess.run(el))"
   ]
  },
  {
   "cell_type": "markdown",
   "metadata": {},
   "source": [
    "## MAP\n",
    " - map을 활용하여, 2개의 element를 2로 곱하는 예를 들어보자"
   ]
  },
  {
   "cell_type": "code",
   "execution_count": 32,
   "metadata": {},
   "outputs": [
    {
     "name": "stdout",
     "output_type": "stream",
     "text": [
      "[2]\n",
      "[4]\n",
      "[6]\n",
      "[8]\n"
     ]
    }
   ],
   "source": [
    "# MAP\n",
    "x = np.array([[1],[2],[3],[4]])\n",
    "# make a dataset from a numpy array\n",
    "dataset = tf.data.Dataset.from_tensor_slices(x)\n",
    "dataset = dataset.map(lambda x: x*2)\n",
    "\n",
    "iter = dataset.make_one_shot_iterator()\n",
    "el = iter.get_next()\n",
    "\n",
    "with tf.Session() as sess:\n",
    "#     this will run forever\n",
    "        for _ in range(len(x)):\n",
    "            print(sess.run(el))"
   ]
  },
  {
   "cell_type": "markdown",
   "metadata": {},
   "source": [
    "# chanwoo tut"
   ]
  },
  {
   "cell_type": "code",
   "execution_count": null,
   "metadata": {},
   "outputs": [],
   "source": []
  }
 ],
 "metadata": {
  "kernelspec": {
   "display_name": "Python 3",
   "language": "python",
   "name": "python3"
  },
  "language_info": {
   "codemirror_mode": {
    "name": "ipython",
    "version": 3
   },
   "file_extension": ".py",
   "mimetype": "text/x-python",
   "name": "python",
   "nbconvert_exporter": "python",
   "pygments_lexer": "ipython3",
   "version": "3.6.4"
  }
 },
 "nbformat": 4,
 "nbformat_minor": 2
}

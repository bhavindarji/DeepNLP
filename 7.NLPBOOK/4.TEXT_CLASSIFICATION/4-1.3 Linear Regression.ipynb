{
 "cells": [
  {
   "cell_type": "markdown",
   "metadata": {},
   "source": [
    "## 4-1.3 Linear Regression Example 2"
   ]
  },
  {
   "cell_type": "markdown",
   "metadata": {},
   "source": [
    "### Word2Vec Feature Example"
   ]
  },
  {
   "cell_type": "code",
   "execution_count": 1,
   "metadata": {},
   "outputs": [],
   "source": [
    "import pandas as pd\n",
    "from bs4 import BeautifulSoup\n",
    "import re\n",
    "from nltk.corpus import stopwords\n",
    "from nltk.tokenize import word_tokenize\n",
    "import numpy as np\n",
    "from tqdm import tqdm\n",
    "\n",
    "default_path='~/.kaggle/competitions/word2vec-nlp-tutorial/'\n",
    "\n",
    "train = pd.read_csv(default_path + 'labeledTrainData.tsv', header=0, delimiter='\\t', quoting=3)"
   ]
  },
  {
   "cell_type": "code",
   "execution_count": 37,
   "metadata": {},
   "outputs": [],
   "source": [
    "def preprocess(review): \n",
    "    # 불용어 제거는 옵션으로 선택 가능하다.\n",
    "    \n",
    "    # 1. HTML 태그 제거\n",
    "    html_filtered_review = BeautifulSoup(review, \"html5lib\").get_text()\n",
    "    # 2. 영어가 아닌 특수문자들을 공백(\" \")으로 바꾸기\n",
    "    non_alphabet_filtered_review = re.sub(\"[^a-zA-Z]\", \" \", html_filtered_review)\n",
    "\n",
    "    # 3. 대문자들을 소문자로 바꾸고 공백단위로 텍스트들 나눠서 리스트로 만든다.\n",
    "    lowered_review = non_alphabet_filtered_review.lower()\n",
    "    processed_words = lowered_review.split()\n",
    "\n",
    "    # 4. 불용어들을 제거\n",
    "    #영어에 관련된 불용어 불러오기\n",
    "    stops = set(stopwords.words(\"english\"))\n",
    "    # 불용어가 아닌 단어들로 이루어진 새로운 리스트 생성\n",
    "    processed_words_to_stopwords = [w for w in processed_words if not w in stops]\n",
    "    # 5. 단어 리스트를 공백을 넣어서 하나의 글로 합친다.\t\n",
    "    clean_review = ' '.join(processed_words_to_stopwords)\n",
    "\n",
    "    return clean_review"
   ]
  },
  {
   "cell_type": "code",
   "execution_count": 3,
   "metadata": {},
   "outputs": [
    {
     "name": "stderr",
     "output_type": "stream",
     "text": [
      "100%|██████████| 25000/25000 [00:25<00:00, 988.39it/s]\n"
     ]
    }
   ],
   "source": [
    "clean_train_reviews = []\n",
    "for review in tqdm(train['review']):\n",
    "    clean_train_reviews.append(prprocess(review))"
   ]
  },
  {
   "cell_type": "code",
   "execution_count": 4,
   "metadata": {},
   "outputs": [
    {
     "data": {
      "text/plain": [
       "25000"
      ]
     },
     "execution_count": 4,
     "metadata": {},
     "output_type": "execute_result"
    }
   ],
   "source": [
    "len(clean_train_reviews)"
   ]
  },
  {
   "cell_type": "code",
   "execution_count": 5,
   "metadata": {},
   "outputs": [],
   "source": [
    "sentences = list()\n",
    "for r in clean_train_reviews:\n",
    "    sentences.append(r.split())"
   ]
  },
  {
   "cell_type": "code",
   "execution_count": 6,
   "metadata": {},
   "outputs": [],
   "source": [
    "# Set values for various parameters\n",
    "num_features = 300    # Word vector dimensionality                      \n",
    "min_word_count = 40   # Minimum word count                        \n",
    "num_workers = 4       # Number of threads to run in parallel\n",
    "context = 10          # Context window size                                                                                    \n",
    "downsampling = 1e-3   # Downsample setting for frequent words"
   ]
  },
  {
   "cell_type": "code",
   "execution_count": 7,
   "metadata": {},
   "outputs": [],
   "source": [
    "import logging\n",
    "logging.basicConfig(format='%(asctime)s : %(levelname)s : %(message)s',\\\n",
    "   level=logging.INFO)"
   ]
  },
  {
   "cell_type": "code",
   "execution_count": 8,
   "metadata": {},
   "outputs": [
    {
     "name": "stderr",
     "output_type": "stream",
     "text": [
      "2018-10-13 20:45:08,310 : INFO : 'pattern' package not found; tag filters are not available for English\n",
      "2018-10-13 20:45:08,313 : INFO : collecting all words and their counts\n",
      "2018-10-13 20:45:08,313 : INFO : PROGRESS: at sentence #0, processed 0 words, keeping 0 word types\n",
      "2018-10-13 20:45:08,456 : INFO : PROGRESS: at sentence #10000, processed 1205223 words, keeping 51374 word types\n",
      "2018-10-13 20:45:08,602 : INFO : PROGRESS: at sentence #20000, processed 2396605 words, keeping 67660 word types\n",
      "2018-10-13 20:45:08,676 : INFO : collected 74065 word types from a corpus of 2988089 raw words and 25000 sentences\n",
      "2018-10-13 20:45:08,676 : INFO : Loading a fresh vocabulary\n",
      "2018-10-13 20:45:08,698 : INFO : min_count=40 retains 8160 unique words (11% of original 74065, drops 65905)\n",
      "2018-10-13 20:45:08,699 : INFO : min_count=40 leaves 2627273 word corpus (87% of original 2988089, drops 360816)\n",
      "2018-10-13 20:45:08,711 : INFO : deleting the raw counts dictionary of 74065 items\n",
      "2018-10-13 20:45:08,713 : INFO : sample=0.001 downsamples 30 most-common words\n",
      "2018-10-13 20:45:08,713 : INFO : downsampling leaves estimated 2494384 word corpus (94.9% of prior 2627273)\n",
      "2018-10-13 20:45:08,724 : INFO : estimated required memory for 8160 words and 300 dimensions: 23664000 bytes\n",
      "2018-10-13 20:45:08,724 : INFO : resetting layer weights\n",
      "2018-10-13 20:45:08,795 : INFO : training model with 4 workers on 8160 vocabulary and 300 features, using sg=0 hs=0 sample=0.001 negative=5 window=10\n",
      "2018-10-13 20:45:09,802 : INFO : EPOCH 1 - PROGRESS: at 68.05% examples, 1696540 words/s, in_qsize 7, out_qsize 0\n",
      "2018-10-13 20:45:10,234 : INFO : worker thread finished; awaiting finish of 3 more threads\n",
      "2018-10-13 20:45:10,237 : INFO : worker thread finished; awaiting finish of 2 more threads\n",
      "2018-10-13 20:45:10,238 : INFO : worker thread finished; awaiting finish of 1 more threads\n",
      "2018-10-13 20:45:10,241 : INFO : worker thread finished; awaiting finish of 0 more threads\n",
      "2018-10-13 20:45:10,242 : INFO : EPOCH - 1 : training on 2988089 raw words (2494021 effective words) took 1.4s, 1726234 effective words/s\n",
      "2018-10-13 20:45:11,255 : INFO : EPOCH 2 - PROGRESS: at 70.29% examples, 1742739 words/s, in_qsize 7, out_qsize 0\n",
      "2018-10-13 20:45:11,660 : INFO : worker thread finished; awaiting finish of 3 more threads\n",
      "2018-10-13 20:45:11,660 : INFO : worker thread finished; awaiting finish of 2 more threads\n",
      "2018-10-13 20:45:11,666 : INFO : worker thread finished; awaiting finish of 1 more threads\n",
      "2018-10-13 20:45:11,669 : INFO : worker thread finished; awaiting finish of 0 more threads\n",
      "2018-10-13 20:45:11,670 : INFO : EPOCH - 2 : training on 2988089 raw words (2494420 effective words) took 1.4s, 1748513 effective words/s\n",
      "2018-10-13 20:45:12,673 : INFO : EPOCH 3 - PROGRESS: at 69.00% examples, 1729654 words/s, in_qsize 7, out_qsize 0\n",
      "2018-10-13 20:45:13,092 : INFO : worker thread finished; awaiting finish of 3 more threads\n",
      "2018-10-13 20:45:13,095 : INFO : worker thread finished; awaiting finish of 2 more threads\n",
      "2018-10-13 20:45:13,096 : INFO : worker thread finished; awaiting finish of 1 more threads\n",
      "2018-10-13 20:45:13,098 : INFO : worker thread finished; awaiting finish of 0 more threads\n",
      "2018-10-13 20:45:13,098 : INFO : EPOCH - 3 : training on 2988089 raw words (2494551 effective words) took 1.4s, 1750274 effective words/s\n",
      "2018-10-13 20:45:14,107 : INFO : EPOCH 4 - PROGRESS: at 69.00% examples, 1719011 words/s, in_qsize 7, out_qsize 0\n",
      "2018-10-13 20:45:14,524 : INFO : worker thread finished; awaiting finish of 3 more threads\n",
      "2018-10-13 20:45:14,527 : INFO : worker thread finished; awaiting finish of 2 more threads\n",
      "2018-10-13 20:45:14,529 : INFO : worker thread finished; awaiting finish of 1 more threads\n",
      "2018-10-13 20:45:14,535 : INFO : worker thread finished; awaiting finish of 0 more threads\n",
      "2018-10-13 20:45:14,535 : INFO : EPOCH - 4 : training on 2988089 raw words (2493683 effective words) took 1.4s, 1738450 effective words/s\n",
      "2018-10-13 20:45:15,538 : INFO : EPOCH 5 - PROGRESS: at 69.63% examples, 1744446 words/s, in_qsize 7, out_qsize 0\n",
      "2018-10-13 20:45:15,956 : INFO : worker thread finished; awaiting finish of 3 more threads\n",
      "2018-10-13 20:45:15,960 : INFO : worker thread finished; awaiting finish of 2 more threads\n",
      "2018-10-13 20:45:15,964 : INFO : worker thread finished; awaiting finish of 1 more threads\n",
      "2018-10-13 20:45:15,969 : INFO : worker thread finished; awaiting finish of 0 more threads\n",
      "2018-10-13 20:45:15,969 : INFO : EPOCH - 5 : training on 2988089 raw words (2494259 effective words) took 1.4s, 1741026 effective words/s\n",
      "2018-10-13 20:45:15,970 : INFO : training on a 14940445 raw words (12470934 effective words) took 7.2s, 1738272 effective words/s\n"
     ]
    }
   ],
   "source": [
    "from gensim.models import word2vec\n",
    "\n",
    "model = word2vec.Word2Vec(sentences, workers=num_workers, \\\n",
    "           size=num_features, min_count = min_word_count, \\\n",
    "            window = context, sample = downsampling)"
   ]
  },
  {
   "cell_type": "code",
   "execution_count": 48,
   "metadata": {},
   "outputs": [],
   "source": [
    "def get_features(words, model, num_features):\n",
    "    \"\"\"\n",
    "    주어진 문장에서 단어 벡터의 평균을 구하는 함수\n",
    "    \"\"\"\n",
    "    # 속도를 위해 0으로 채운 배열로 초기화 한다.\n",
    "    feature_vector = np.zeros((num_features),dtype=np.float32)\n",
    "\n",
    "    num_words = 0\n",
    "    # Index2word는 모델의 사전에 있는 단어명을 담은 리스트이다.\n",
    "    # 속도를 위해 set 형태로 초기화 한다.\n",
    "    index2word_set = set(model.wv.index2word)\n",
    "    # 루프를 돌며 모델 사전에 포함이 되는 단어라면 피처에 추가한다.\n",
    "    for w in words:\n",
    "        if w in index2word_set:\n",
    "            num_words += 1\n",
    "            feature_vector = np.add(feature_vector, model[w])\n",
    "    # 결과를 단어수로 나누어 평균을 구한다.\n",
    "    feature_vector = np.divide(feature_vector, num_words)\n",
    "    return feature_vector"
   ]
  },
  {
   "cell_type": "code",
   "execution_count": 28,
   "metadata": {},
   "outputs": [],
   "source": [
    "def get_dataset(reviews, model, num_features):\n",
    "    # 리뷰 단어 목록의 각각에 대한 평균 feature 벡터를 계산하고 \n",
    "    # 2D numpy 배열을 반환한다.\n",
    "    dataset = list()\n",
    "\n",
    "    for s in tqdm(reviews):\n",
    "        dataset.append(get_features(s, model, num_features))\n",
    "\n",
    "    reviewFeatureVecs = np.stack(dataset)\n",
    "    \n",
    "    return reviewFeatureVecs"
   ]
  },
  {
   "cell_type": "code",
   "execution_count": 29,
   "metadata": {},
   "outputs": [
    {
     "name": "stderr",
     "output_type": "stream",
     "text": [
      "  0%|          | 0/25000 [00:00<?, ?it/s]/home/mind/anaconda3/envs/torch_env/lib/python3.6/site-packages/ipykernel_launcher.py:16: DeprecationWarning: Call to deprecated `__getitem__` (Method will be removed in 4.0.0, use self.wv.__getitem__() instead).\n",
      "  app.launch_new_instance()\n",
      "100%|██████████| 25000/25000 [00:18<00:00, 1366.58it/s]\n"
     ]
    }
   ],
   "source": [
    "trainDataVecs = get_dataset(sentences, model, num_features)"
   ]
  },
  {
   "cell_type": "code",
   "execution_count": 30,
   "metadata": {},
   "outputs": [],
   "source": [
    "from sklearn.model_selection import train_test_split\n",
    "import numpy as np\n",
    "\n",
    "sentiments = list(train['sentiment'])\n",
    "X = trainDataVecs\n",
    "y = np.array(sentiments)\n",
    "\n",
    "X_train, X_test, y_train, y_test = train_test_split(X, y, test_size=0.2, random_state=42)"
   ]
  },
  {
   "cell_type": "code",
   "execution_count": 31,
   "metadata": {},
   "outputs": [
    {
     "data": {
      "text/plain": [
       "LogisticRegression(C=1.0, class_weight='balanced', dual=False,\n",
       "          fit_intercept=True, intercept_scaling=1, max_iter=100,\n",
       "          multi_class='ovr', n_jobs=1, penalty='l2', random_state=None,\n",
       "          solver='liblinear', tol=0.0001, verbose=0, warm_start=False)"
      ]
     },
     "execution_count": 31,
     "metadata": {},
     "output_type": "execute_result"
    }
   ],
   "source": [
    "from sklearn.linear_model import LogisticRegression\n",
    "\n",
    "lgs = LogisticRegression(class_weight='balanced')\n",
    "lgs.fit(X_train, y_train)"
   ]
  },
  {
   "cell_type": "code",
   "execution_count": 32,
   "metadata": {},
   "outputs": [
    {
     "name": "stdout",
     "output_type": "stream",
     "text": [
      "------------\n",
      "Accuracy: 0.864200\n",
      "Precision: 0.858535\n",
      "Recall: 0.874553\n",
      "F1-Score: 0.866470\n",
      "AUC: 0.933482\n"
     ]
    }
   ],
   "source": [
    "predicted = lgs.predict(X_test)\n",
    "from sklearn import metrics\n",
    "\n",
    "fpr, tpr, _ = metrics.roc_curve(y_test, (lgs.predict_proba(X_test)[:, 1]))\n",
    "auc = metrics.auc(fpr, tpr)\n",
    "\n",
    "print(\"------------\")\n",
    "print(\"Accuracy: %f\" % lgs.score(X_test, y_test))  #checking the accuracy\n",
    "print(\"Precision: %f\" % metrics.precision_score(y_test, predicted))\n",
    "print(\"Recall: %f\" % metrics.recall_score(y_test, predicted))\n",
    "print(\"F1-Score: %f\" % metrics.f1_score(y_test, predicted))\n",
    "print(\"AUC: %f\" % auc)"
   ]
  },
  {
   "cell_type": "code",
   "execution_count": null,
   "metadata": {},
   "outputs": [],
   "source": [
    "%%bash\n",
    "\n",
    "unzip /home/mind/.kaggle/competitions/word2vec-nlp-tutorial/testData.tsv.zip -d /home/mind/.kaggle/competitions/word2vec-nlp-tutorial"
   ]
  },
  {
   "cell_type": "code",
   "execution_count": 33,
   "metadata": {},
   "outputs": [],
   "source": [
    "test = pd.read_csv(default_path + 'testData.tsv', header=0, delimiter='\\t', quoting=3)"
   ]
  },
  {
   "cell_type": "code",
   "execution_count": 34,
   "metadata": {},
   "outputs": [
    {
     "data": {
      "text/html": [
       "<div>\n",
       "<style scoped>\n",
       "    .dataframe tbody tr th:only-of-type {\n",
       "        vertical-align: middle;\n",
       "    }\n",
       "\n",
       "    .dataframe tbody tr th {\n",
       "        vertical-align: top;\n",
       "    }\n",
       "\n",
       "    .dataframe thead th {\n",
       "        text-align: right;\n",
       "    }\n",
       "</style>\n",
       "<table border=\"1\" class=\"dataframe\">\n",
       "  <thead>\n",
       "    <tr style=\"text-align: right;\">\n",
       "      <th></th>\n",
       "      <th>id</th>\n",
       "      <th>review</th>\n",
       "    </tr>\n",
       "  </thead>\n",
       "  <tbody>\n",
       "    <tr>\n",
       "      <th>0</th>\n",
       "      <td>\"12311_10\"</td>\n",
       "      <td>\"Naturally in a film who's main themes are of ...</td>\n",
       "    </tr>\n",
       "    <tr>\n",
       "      <th>1</th>\n",
       "      <td>\"8348_2\"</td>\n",
       "      <td>\"This movie is a disaster within a disaster fi...</td>\n",
       "    </tr>\n",
       "    <tr>\n",
       "      <th>2</th>\n",
       "      <td>\"5828_4\"</td>\n",
       "      <td>\"All in all, this is a movie for kids. We saw ...</td>\n",
       "    </tr>\n",
       "    <tr>\n",
       "      <th>3</th>\n",
       "      <td>\"7186_2\"</td>\n",
       "      <td>\"Afraid of the Dark left me with the impressio...</td>\n",
       "    </tr>\n",
       "    <tr>\n",
       "      <th>4</th>\n",
       "      <td>\"12128_7\"</td>\n",
       "      <td>\"A very accurate depiction of small time mob l...</td>\n",
       "    </tr>\n",
       "  </tbody>\n",
       "</table>\n",
       "</div>"
      ],
      "text/plain": [
       "           id                                             review\n",
       "0  \"12311_10\"  \"Naturally in a film who's main themes are of ...\n",
       "1    \"8348_2\"  \"This movie is a disaster within a disaster fi...\n",
       "2    \"5828_4\"  \"All in all, this is a movie for kids. We saw ...\n",
       "3    \"7186_2\"  \"Afraid of the Dark left me with the impressio...\n",
       "4   \"12128_7\"  \"A very accurate depiction of small time mob l..."
      ]
     },
     "execution_count": 34,
     "metadata": {},
     "output_type": "execute_result"
    }
   ],
   "source": [
    "test.head(5)"
   ]
  },
  {
   "cell_type": "code",
   "execution_count": 40,
   "metadata": {},
   "outputs": [
    {
     "name": "stderr",
     "output_type": "stream",
     "text": [
      "100%|██████████| 25000/25000 [00:27<00:00, 904.02it/s]\n"
     ]
    }
   ],
   "source": [
    "clean_test_reviews = []\n",
    "for review in tqdm(test['review']):\n",
    "    clean_test_reviews.append(preprocess(review))"
   ]
  },
  {
   "cell_type": "code",
   "execution_count": 41,
   "metadata": {},
   "outputs": [
    {
     "data": {
      "text/plain": [
       "25000"
      ]
     },
     "execution_count": 41,
     "metadata": {},
     "output_type": "execute_result"
    }
   ],
   "source": [
    "len(clean_test_reviews)"
   ]
  },
  {
   "cell_type": "code",
   "execution_count": 42,
   "metadata": {},
   "outputs": [],
   "source": [
    "test_sentences = list()\n",
    "for r in clean_test_reviews:\n",
    "    test_sentences.append(r.split())"
   ]
  },
  {
   "cell_type": "code",
   "execution_count": 49,
   "metadata": {},
   "outputs": [
    {
     "name": "stderr",
     "output_type": "stream",
     "text": [
      "  0%|          | 0/25000 [00:00<?, ?it/s]/home/mind/anaconda3/envs/torch_env/lib/python3.6/site-packages/ipykernel_launcher.py:16: DeprecationWarning: Call to deprecated `__getitem__` (Method will be removed in 4.0.0, use self.wv.__getitem__() instead).\n",
      "  app.launch_new_instance()\n",
      "100%|██████████| 25000/25000 [00:18<00:00, 1376.00it/s]\n"
     ]
    }
   ],
   "source": [
    "testDataVecs = get_dataset(test_sentences, model, num_features)"
   ]
  },
  {
   "cell_type": "code",
   "execution_count": 50,
   "metadata": {},
   "outputs": [
    {
     "data": {
      "text/plain": [
       "array([[ 1.26484662e-01,  4.01385501e-02, -2.06145033e-01, ...,\n",
       "        -1.97365489e-02,  1.94497228e-01, -1.91502362e-01],\n",
       "       [ 9.94577110e-02,  3.17749441e-01,  1.28265128e-01, ...,\n",
       "        -2.12954119e-01,  4.31397259e-01, -1.44890577e-01],\n",
       "       [ 1.67861152e-02,  1.21207416e-01, -8.08910206e-02, ...,\n",
       "        -1.00061119e-01,  3.62079114e-01, -2.54240304e-01],\n",
       "       ...,\n",
       "       [ 8.71552229e-02,  6.84049204e-02, -1.18286842e-02, ...,\n",
       "         6.34482205e-02,  2.15148360e-01, -5.95017225e-02],\n",
       "       [ 1.07426822e-01,  1.45983487e-01, -1.58126671e-02, ...,\n",
       "        -1.25091240e-01,  2.62662977e-01, -1.41854733e-04],\n",
       "       [ 9.48106572e-02,  1.41753005e-02, -5.92297241e-02, ...,\n",
       "        -1.83753625e-01,  4.88906741e-01, -5.64651936e-02]], dtype=float32)"
      ]
     },
     "execution_count": 50,
     "metadata": {},
     "output_type": "execute_result"
    }
   ],
   "source": [
    "testDataVecs"
   ]
  },
  {
   "cell_type": "code",
   "execution_count": 51,
   "metadata": {},
   "outputs": [],
   "source": [
    "test_predicted = lgs.predict(testDataVecs)"
   ]
  },
  {
   "cell_type": "code",
   "execution_count": 52,
   "metadata": {},
   "outputs": [],
   "source": [
    "answer_dataset = pd.DataFrame({'id': test['id'], 'sentiment': test_predicted})"
   ]
  },
  {
   "cell_type": "code",
   "execution_count": 54,
   "metadata": {},
   "outputs": [],
   "source": [
    "answer_dataset.to_csv('lgs_answer.csv', index=False, quoting=3)"
   ]
  }
 ],
 "metadata": {
  "kernelspec": {
   "display_name": "Python 3",
   "language": "python",
   "name": "python3"
  },
  "language_info": {
   "codemirror_mode": {
    "name": "ipython",
    "version": 3
   },
   "file_extension": ".py",
   "mimetype": "text/x-python",
   "name": "python",
   "nbconvert_exporter": "python",
   "pygments_lexer": "ipython3",
   "version": "3.6.5"
  }
 },
 "nbformat": 4,
 "nbformat_minor": 2
}

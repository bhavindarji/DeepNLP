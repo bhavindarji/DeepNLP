{
 "cells": [
  {
   "cell_type": "code",
   "execution_count": 4,
   "metadata": {},
   "outputs": [],
   "source": [
    "sent = (\"휴일 인 오늘 도 서쪽 을 중심 으로 폭염 이 이어졌는데요, 내일 은 반가운 비소식 이 있습니다.\",\n",
    "        \"폭염 을 피해서 휴일 에 놀러왔다가 갑작스런 비 로 인해 망연자실 하고 있습니다.\") #띄어쓰기 위주로 구분하므로, 한글 문장의 조사를 띄어쓴 형태"
   ]
  },
  {
   "cell_type": "code",
   "execution_count": 28,
   "metadata": {},
   "outputs": [
    {
     "name": "stdout",
     "output_type": "stream",
     "text": [
      "(2, 17)\n"
     ]
    }
   ],
   "source": [
    "from sklearn.feature_extraction.text import TfidfVectorizer\n",
    "\n",
    "tfidf_vectorizer = TfidfVectorizer()\n",
    "tfidf_matrix = tfidf_vectorizer.fit_transform(sent) #문장 백터화 진행\n",
    "\n",
    "print(tfidf_matrix.shape) #문장은 2개이며, 총 유니크 단어의 개수는 17개"
   ]
  },
  {
   "cell_type": "code",
   "execution_count": 32,
   "metadata": {},
   "outputs": [
    {
     "name": "stdout",
     "output_type": "stream",
     "text": [
      "  (0, 16)\t0.23061650387901597\n",
      "  (0, 7)\t0.3241234495558481\n",
      "  (0, 6)\t0.3241234495558481\n",
      "  (0, 12)\t0.3241234495558481\n",
      "  (0, 8)\t0.3241234495558481\n",
      "  (0, 13)\t0.23061650387901597\n",
      "  (0, 9)\t0.3241234495558481\n",
      "  (0, 1)\t0.3241234495558481\n",
      "  (0, 4)\t0.3241234495558481\n",
      "  (0, 5)\t0.3241234495558481\n",
      "  (0, 11)\t0.23061650387901597\n"
     ]
    }
   ],
   "source": [
    "print(tfidf_matrix[0:1]) #첫번째 문장의 각 문장의 토큰의 tf-idf값"
   ]
  },
  {
   "cell_type": "code",
   "execution_count": 43,
   "metadata": {},
   "outputs": [
    {
     "data": {
      "text/plain": [
       "array([[0.        , 1.28099753]])"
      ]
     },
     "execution_count": 43,
     "metadata": {},
     "output_type": "execute_result"
    }
   ],
   "source": [
    "from sklearn.metrics.pairwise import euclidean_distances\n",
    "\n",
    "euclidean_distances(tfidf_matrix[0:1], tfidf_matrix)\n",
    "\n",
    "# array([[0.        , 1.28099753]])"
   ]
  },
  {
   "cell_type": "code",
   "execution_count": 48,
   "metadata": {},
   "outputs": [],
   "source": [
    "import numpy as np\n",
    "\n",
    "# ∑_i x_i: L1\n",
    "# sqrt(∑_i x_i): L2\n",
    "\n",
    "def l1_normalize(v):\n",
    "    norm = np.sum(v)\n",
    "    return v / norm\n",
    "\n",
    "def l2_normalize(v):\n",
    "    norm = np.sqrt(np.sum(np.square(v)))\n",
    "    return v / norm\n",
    "\n",
    "tfidf_norm_l1 = l1_normalize(tfidf_matrix)\n",
    "# tfidf_norm_l2 = l2_normalize(tfidf_matrix)"
   ]
  },
  {
   "cell_type": "code",
   "execution_count": 52,
   "metadata": {},
   "outputs": [
    {
     "data": {
      "text/plain": [
       "array([[0.20491229]])"
      ]
     },
     "execution_count": 52,
     "metadata": {},
     "output_type": "execute_result"
    }
   ],
   "source": [
    "euclidean_distances(tfidf_norm_l1[0:1], tfidf_norm_l1[1:2])\n",
    "\n",
    "# array([[0.20491229]])\n"
   ]
  },
  {
   "cell_type": "code",
   "execution_count": 20,
   "metadata": {},
   "outputs": [
    {
     "data": {
      "text/plain": [
       "array([[1.        , 0.17952266]])"
      ]
     },
     "execution_count": 20,
     "metadata": {},
     "output_type": "execute_result"
    }
   ],
   "source": [
    "from sklearn.metrics.pairwise import cosine_similarity\n",
    "\n",
    "# 코사인 유사도를 구해보자\n",
    "cosine_similarity(tfidf_matrix[0:1], tfidf_matrix) ##tfidf_matrix[0:1]으로 첫번째 문장을 불러옴\n",
    "\n",
    "# array([[1.        , 0.17952266]]) 자기 자신은 유사도가 1"
   ]
  },
  {
   "cell_type": "code",
   "execution_count": 59,
   "metadata": {},
   "outputs": [
    {
     "data": {
      "text/plain": [
       "array([[0.77865927]])"
      ]
     },
     "execution_count": 59,
     "metadata": {},
     "output_type": "execute_result"
    }
   ],
   "source": [
    "#맨하탄 거리를 구해보자\n",
    "from sklearn.metrics.pairwise import manhattan_distances\n",
    "\n",
    "manhattan_distances(tfidf_norm_l1[0:1], tfidf_norm_l1[1:2])\n",
    "\n",
    "# 최종 값: array([[0.77865927]])"
   ]
  },
  {
   "cell_type": "code",
   "execution_count": null,
   "metadata": {},
   "outputs": [],
   "source": []
  }
 ],
 "metadata": {
  "kernelspec": {
   "display_name": "Python 3",
   "language": "python",
   "name": "python3"
  },
  "language_info": {
   "codemirror_mode": {
    "name": "ipython",
    "version": 3
   },
   "file_extension": ".py",
   "mimetype": "text/x-python",
   "name": "python",
   "nbconvert_exporter": "python",
   "pygments_lexer": "ipython3",
   "version": "3.6.4"
  }
 },
 "nbformat": 4,
 "nbformat_minor": 2
}
